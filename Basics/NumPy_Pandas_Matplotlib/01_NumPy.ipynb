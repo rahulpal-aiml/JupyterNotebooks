{
 "cells": [
  {
   "cell_type": "markdown",
   "id": "4c97695f-5d9a-4bed-8365-ccbf601611b7",
   "metadata": {},
   "source": [
    "## <center> `NumPy Tutorial` \n",
    "#### <center>  Notes from IIT-KGP course and Official documentation"
   ]
  },
  {
   "cell_type": "markdown",
   "id": "f8387925-085f-4f21-8bad-20f4e5feb73d",
   "metadata": {},
   "source": [
    "##### Basic Introduction\n",
    "- What is NumPy:\n",
    "  - NumPy is a library that supports large, multi-dimensional arrays and matrices.\n",
    "  - It has large collection of high-level mathematical functions to operate on these arrays. <br>\n",
    "\n",
    "- Why use NumPy?\n",
    "  - Although lists serve the purpose of arrays, they are slow to process.\n",
    "  - NumPy is 50% faster than traditional Python lists.\n",
    "  - Array object in NumPy is called ` ndarray `\n",
    "  - Arrays are frequently used in data science where speed and resources are important. <br>\n",
    "\n",
    "- Why is NumPy faster than Lists?\n",
    "  - NumPy arrays are stored at one continous place in memory unlike lists, thus processes can access & manipulate them very efficiently. (*Concept: locality of reference*)\n",
    "  - NumPy is also optimized to work with latest CPU architectures"
   ]
  },
  {
   "cell_type": "markdown",
   "id": "e0c0a8bc-21cb-45bd-a482-46b48d539acd",
   "metadata": {},
   "source": [
    "#### What is an \"Array\"\n",
    "- An array is a structure for storing & retrieving data.\n",
    "- Often, we imagine array as if it were a ` grid in space `, where each cell stores one element of data.\n",
    "- if a element is a number, it is a one-dimensional array (1-D array)\n",
    "- a two-dimensional array (2-D array) will look like a table stacked on each other, and so on.<br> <br>\n",
    "\n",
    "#### Restrictions regardign NumPy arrays\n",
    "- All elements of the array must of be same datatype\n",
    "- Once created, the ` total-size ` of the array cannot be changed.\n",
    "- The shape must be rectangular & not jagged (e.g.: each row of a 2D array must have the same number of columns)\n",
    "- We can use remember characteristics to actually use NumPy more properly\n",
    "\n",
    " "
   ]
  },
  {
   "cell_type": "markdown",
   "id": "20da0200-8567-432b-aa88-37efc485aa01",
   "metadata": {},
   "source": [
    "### ` Working with NumPy `"
   ]
  },
  {
   "cell_type": "code",
   "execution_count": 1,
   "id": "4397c1c3-f359-481b-8b08-1bacc1056d98",
   "metadata": {},
   "outputs": [],
   "source": [
    "# importing NumPy array: the first compulsory step\n",
    "\n",
    "import numpy as np # np is the standard aliasing"
   ]
  },
  {
   "cell_type": "markdown",
   "id": "e8379ea8-bf72-43b5-a1de-883bc35ea4fc",
   "metadata": {},
   "source": [
    "#### ` 01. Array Creation `\n",
    "\n",
    "6 - general mechanisms for creating arrays: \n",
    "1. Conversion from other Python structures (*from lists & tuples*)\n",
    "2. Intrinsic NumPy creation functions (*.arange, ones, zeros etc.*)\n",
    "3. Replicating, Joining or Mutating existing arrays\n",
    "4. Reading arrays from disk, either from standard or custom formats\n",
    "5. Creating arrays from raw-bytes through the use of strings or buffers\n",
    "6. Use of special libraries (like *random*)"
   ]
  },
  {
   "cell_type": "markdown",
   "id": "12805028-b643-43f3-9e8a-3774b66ad315",
   "metadata": {},
   "source": [
    "##### *i. Converting Python sequences to NumPy arrays*\n",
    "Lists & tuples can define ndarray creation\n",
    "  - a list of numbers will create a 1D-array\n",
    "  - a list of lists will create a 2D-array\n",
    "  - further nested lists will create higher-dimensional arrays."
   ]
  },
  {
   "cell_type": "code",
   "execution_count": 10,
   "id": "6b31b1ab-2ef5-4071-8d3e-1e6ba3aed79f",
   "metadata": {},
   "outputs": [
    {
     "name": "stdout",
     "output_type": "stream",
     "text": [
      "This is One-Dimensional array:  [1 2]\n",
      "- - - - -\n",
      "This is Two-Dimensional array:\n",
      "  [[1 2]\n",
      " [3 4]]\n",
      "- - - - -\n",
      "This is a Three-Dimensional array:\n",
      "  [[[1 2]\n",
      "  [3 4]]\n",
      "\n",
      " [[5 6]\n",
      "  [7 8]]]\n"
     ]
    }
   ],
   "source": [
    "# creating lists\n",
    "\n",
    "lst1 = [1, 2]\n",
    "lst2 = [3, 4]\n",
    "\n",
    "# 1D array\n",
    "a1D = np.array(lst1)\n",
    "print(\"This is One-Dimensional array: \", a1D)\n",
    "\n",
    "print(\"- - - - -\")\n",
    "\n",
    "# 2D array\n",
    "a2D = np.array([lst1, lst2])    # Remember the square brackets, they are important\n",
    "print(\"This is Two-Dimensional array:\\n \", a2D)\n",
    "\n",
    "print(\"- - - - -\")\n",
    "\n",
    "# 3D array\n",
    "a3D = np.array([[[1, 2], [3, 4]], [[5, 6], [7, 8]]])\n",
    "print(\"This is a Three-Dimensional array:\\n \", a3D)"
   ]
  },
  {
   "cell_type": "markdown",
   "id": "d5733110-73a3-4848-ad75-730218291ba2",
   "metadata": {},
   "source": [
    "#### *ii. Intrinsic NumPy array creation functions*\n",
    "- There are over 40 built-in functions to create arrays in NumPy\n",
    "- These functions can be split into 3-categories roughly, based on the dimension of the array they create\n",
    "  - 1D arrays\n",
    "  - 2D arrays\n",
    "  - ndarrays"
   ]
  },
  {
   "cell_type": "markdown",
   "id": "2a2d8d8d-73c7-45cf-8f75-291fd26dfde8",
   "metadata": {},
   "source": [
    "` 1D array creation function `\n",
    "\n",
    "- **np.arange** and **np.linspace** are important 1D array creation function.\n",
    "- They generally need atleast 2-inputs (start, stop)"
   ]
  },
  {
   "cell_type": "code",
   "execution_count": 11,
   "id": "c6361aea-739d-49f7-97a0-a0184e8627e6",
   "metadata": {},
   "outputs": [
    {
     "data": {
      "text/plain": [
       "array([0, 1, 2, 3, 4, 5, 6, 7, 8, 9])"
      ]
     },
     "execution_count": 11,
     "metadata": {},
     "output_type": "execute_result"
    }
   ],
   "source": [
    "# np.arange\n",
    "\n",
    "# np.arange creates arrays with regularly incrementing values\n",
    "# best practice: np.arange(start, stop, step), dtype is optional\n",
    "np.arange(10)"
   ]
  },
  {
   "cell_type": "code",
   "execution_count": 12,
   "id": "ab931834-a749-4aee-8820-5ddb62a47095",
   "metadata": {},
   "outputs": [
    {
     "data": {
      "text/plain": [
       "array([2., 3., 4., 5., 6., 7., 8., 9.])"
      ]
     },
     "execution_count": 12,
     "metadata": {},
     "output_type": "execute_result"
    }
   ],
   "source": [
    "np.arange(2, 10, dtype = float)"
   ]
  },
  {
   "cell_type": "code",
   "execution_count": 13,
   "id": "b0c12d6a-639e-4306-9f9e-d2df00f2a092",
   "metadata": {},
   "outputs": [
    {
     "data": {
      "text/plain": [
       "array([2. , 2.1, 2.2, 2.3, 2.4, 2.5, 2.6, 2.7, 2.8, 2.9])"
      ]
     },
     "execution_count": 13,
     "metadata": {},
     "output_type": "execute_result"
    }
   ],
   "source": [
    "np.arange(2, 3, 0.1)"
   ]
  },
  {
   "cell_type": "code",
   "execution_count": 14,
   "id": "8200e12c-22c7-4702-8594-8b720091027c",
   "metadata": {},
   "outputs": [
    {
     "data": {
      "text/plain": [
       "array([1. , 1.6, 2.2, 2.8, 3.4, 4. ])"
      ]
     },
     "execution_count": 14,
     "metadata": {},
     "output_type": "execute_result"
    }
   ],
   "source": [
    "# np.linspace\n",
    "\n",
    "# np.linspace will create arrays with a specified number of elements spaced equally between start and stop values\n",
    "\n",
    "np.linspace(1., 4., 6)"
   ]
  },
  {
   "cell_type": "markdown",
   "id": "83026a6d-b282-4890-9204-76a7c90eaaee",
   "metadata": {},
   "source": [
    "` 2D array creation function `\n",
    "\n",
    "- **np.eye** and **np.diag** and **np.vander** are important 2D array creation function.\n"
   ]
  },
  {
   "cell_type": "code",
   "execution_count": 15,
   "id": "faa3c664-c7cb-4e6b-915c-64f9eb0dcc80",
   "metadata": {},
   "outputs": [
    {
     "data": {
      "text/plain": [
       "array([[1., 0., 0.],\n",
       "       [0., 1., 0.],\n",
       "       [0., 0., 1.]])"
      ]
     },
     "execution_count": 15,
     "metadata": {},
     "output_type": "execute_result"
    }
   ],
   "source": [
    "# np.eye(n, m)\n",
    "# defines 2D matrix\n",
    "# the row where i = j (row index = column index), are 1, rest are 0\n",
    "\n",
    "np.eye(3)"
   ]
  },
  {
   "cell_type": "code",
   "execution_count": 16,
   "id": "eae671f2-2f4c-46e6-b729-576ab5402408",
   "metadata": {},
   "outputs": [
    {
     "data": {
      "text/plain": [
       "array([[1., 0., 0., 0., 0.],\n",
       "       [0., 1., 0., 0., 0.],\n",
       "       [0., 0., 1., 0., 0.]])"
      ]
     },
     "execution_count": 16,
     "metadata": {},
     "output_type": "execute_result"
    }
   ],
   "source": [
    "np.eye(3, 5)"
   ]
  },
  {
   "cell_type": "code",
   "execution_count": 17,
   "id": "5b46d5f1-3fc4-4872-a282-d3a99d262b84",
   "metadata": {},
   "outputs": [
    {
     "data": {
      "text/plain": [
       "array([[1, 0, 0],\n",
       "       [0, 2, 0],\n",
       "       [0, 0, 3]])"
      ]
     },
     "execution_count": 17,
     "metadata": {},
     "output_type": "execute_result"
    }
   ],
   "source": [
    "# np.diag\n",
    "# can either define a square 2D array with given values along diagonal, OR\n",
    "# if a given 2D array returns a 1D array, that is only the diagonal elements\n",
    "# helpful while doing linear algebra\n",
    "\n",
    "np.diag([1, 2, 3])"
   ]
  },
  {
   "cell_type": "code",
   "execution_count": 18,
   "id": "ed6c682b-9f39-42ef-8792-2bb32f6693ab",
   "metadata": {},
   "outputs": [
    {
     "data": {
      "text/plain": [
       "array([[0, 1, 0, 0],\n",
       "       [0, 0, 2, 0],\n",
       "       [0, 0, 0, 3],\n",
       "       [0, 0, 0, 0]])"
      ]
     },
     "execution_count": 18,
     "metadata": {},
     "output_type": "execute_result"
    }
   ],
   "source": [
    "np.diag([1, 2, 3], 1)"
   ]
  },
  {
   "cell_type": "code",
   "execution_count": 19,
   "id": "af94ac92-e49f-45d6-a6f6-c6dda5bbb6c6",
   "metadata": {},
   "outputs": [
    {
     "data": {
      "text/plain": [
       "array([1, 4])"
      ]
     },
     "execution_count": 19,
     "metadata": {},
     "output_type": "execute_result"
    }
   ],
   "source": [
    "np.diag([[1, 2], [3, 4]])"
   ]
  },
  {
   "cell_type": "code",
   "execution_count": 20,
   "id": "46f5ce94-1dc8-4156-b9d4-df1aca80bae0",
   "metadata": {},
   "outputs": [
    {
     "data": {
      "text/plain": [
       "array([[0. , 1. ],\n",
       "       [0.5, 1. ],\n",
       "       [1. , 1. ],\n",
       "       [1.5, 1. ],\n",
       "       [2. , 1. ]])"
      ]
     },
     "execution_count": 20,
     "metadata": {},
     "output_type": "execute_result"
    }
   ],
   "source": [
    "# vander(x, n)\n",
    "# defines a Vandermonde matrix as a 2D NumPy array.\n",
    "# helpful in generating linear least squares model\n",
    "\n",
    "np.vander(np.linspace(0, 2, 5), 2)"
   ]
  },
  {
   "cell_type": "code",
   "execution_count": 21,
   "id": "85af4eb6-8cfd-43cb-8153-07ed52331f67",
   "metadata": {},
   "outputs": [
    {
     "data": {
      "text/plain": [
       "array([[1, 1],\n",
       "       [2, 1],\n",
       "       [3, 1],\n",
       "       [4, 1]])"
      ]
     },
     "execution_count": 21,
     "metadata": {},
     "output_type": "execute_result"
    }
   ],
   "source": [
    "np.vander([1, 2, 3, 4], 2)"
   ]
  },
  {
   "cell_type": "code",
   "execution_count": 22,
   "id": "ea9bd855-95c8-4dc3-8512-547943acbec3",
   "metadata": {},
   "outputs": [
    {
     "data": {
      "text/plain": [
       "array([[ 1,  1,  1,  1],\n",
       "       [ 8,  4,  2,  1],\n",
       "       [27,  9,  3,  1],\n",
       "       [64, 16,  4,  1]])"
      ]
     },
     "execution_count": 22,
     "metadata": {},
     "output_type": "execute_result"
    }
   ],
   "source": [
    "np.vander((1, 2, 3, 4), 4)"
   ]
  },
  {
   "cell_type": "markdown",
   "id": "8043137e-ce62-4e6a-bb8a-564870969016",
   "metadata": {},
   "source": [
    "` General ndarray creation function `\n",
    "\n",
    "- **np.ones** and **np.zeros** and **random** define arrays based upon the desired shape\n"
   ]
  },
  {
   "cell_type": "code",
   "execution_count": 24,
   "id": "3c64c36f-4dce-4946-94cc-486aa52f34c1",
   "metadata": {},
   "outputs": [
    {
     "data": {
      "text/plain": [
       "array([[0., 0., 0.],\n",
       "       [0., 0., 0.]])"
      ]
     },
     "execution_count": 24,
     "metadata": {},
     "output_type": "execute_result"
    }
   ],
   "source": [
    "# np.zeros\n",
    "# creates an array filled with 0 values with the specified shape\n",
    "# default dtype is float64\n",
    "\n",
    "np.zeros((2, 3))"
   ]
  },
  {
   "cell_type": "code",
   "execution_count": 25,
   "id": "a701a264-3db3-4b7f-84ee-c1861b24d898",
   "metadata": {},
   "outputs": [
    {
     "data": {
      "text/plain": [
       "array([[[0., 0.],\n",
       "        [0., 0.],\n",
       "        [0., 0.]],\n",
       "\n",
       "       [[0., 0.],\n",
       "        [0., 0.],\n",
       "        [0., 0.]]])"
      ]
     },
     "execution_count": 25,
     "metadata": {},
     "output_type": "execute_result"
    }
   ],
   "source": [
    "np.zeros((2, 3, 2))"
   ]
  },
  {
   "cell_type": "code",
   "execution_count": 26,
   "id": "0dc84407-60fd-47d6-86d7-c7e173294bd6",
   "metadata": {},
   "outputs": [
    {
     "data": {
      "text/plain": [
       "array([[1., 1., 1.],\n",
       "       [1., 1., 1.]])"
      ]
     },
     "execution_count": 26,
     "metadata": {},
     "output_type": "execute_result"
    }
   ],
   "source": [
    "# np.ones\n",
    "# will create an array filled with 1 values.\n",
    "# identical to zeros in all other respects \n",
    "\n",
    "np.ones((2, 3))"
   ]
  },
  {
   "cell_type": "code",
   "execution_count": 27,
   "id": "8455d35c-a4d7-4da5-9dd3-21c75c4bbf30",
   "metadata": {},
   "outputs": [
    {
     "data": {
      "text/plain": [
       "array([[[1., 1.],\n",
       "        [1., 1.],\n",
       "        [1., 1.]],\n",
       "\n",
       "       [[1., 1.],\n",
       "        [1., 1.],\n",
       "        [1., 1.]]])"
      ]
     },
     "execution_count": 27,
     "metadata": {},
     "output_type": "execute_result"
    }
   ],
   "source": [
    "np.ones((2, 3, 2))"
   ]
  },
  {
   "cell_type": "code",
   "execution_count": 28,
   "id": "4d8e1452-c04d-4de6-ace8-4f423bbd7052",
   "metadata": {},
   "outputs": [
    {
     "data": {
      "text/plain": [
       "array([[0.77395605, 0.43887844, 0.85859792],\n",
       "       [0.69736803, 0.09417735, 0.97562235]])"
      ]
     },
     "execution_count": 28,
     "metadata": {},
     "output_type": "execute_result"
    }
   ],
   "source": [
    "# random method of default_rng\n",
    "# creates an array filled with random values between 0 & 1\n",
    "\n",
    "from numpy.random import default_rng  # import\n",
    "\n",
    "default_rng(42).random((2,3))"
   ]
  },
  {
   "cell_type": "code",
   "execution_count": 29,
   "id": "60796050-126b-47fa-a16c-94ff06cdcdbf",
   "metadata": {},
   "outputs": [
    {
     "data": {
      "text/plain": [
       "array([[[0.77395605, 0.43887844],\n",
       "        [0.85859792, 0.69736803],\n",
       "        [0.09417735, 0.97562235]],\n",
       "\n",
       "       [[0.7611397 , 0.78606431],\n",
       "        [0.12811363, 0.45038594],\n",
       "        [0.37079802, 0.92676499]]])"
      ]
     },
     "execution_count": 29,
     "metadata": {},
     "output_type": "execute_result"
    }
   ],
   "source": [
    "default_rng(42).random((2,3,2))"
   ]
  },
  {
   "cell_type": "code",
   "execution_count": 30,
   "id": "d10e6f5d-b232-4394-a6a7-b68c162fbc01",
   "metadata": {},
   "outputs": [
    {
     "data": {
      "text/plain": [
       "array([[[0, 0, 0],\n",
       "        [1, 1, 1],\n",
       "        [2, 2, 2]],\n",
       "\n",
       "       [[0, 1, 2],\n",
       "        [0, 1, 2],\n",
       "        [0, 1, 2]]])"
      ]
     },
     "execution_count": 30,
     "metadata": {},
     "output_type": "execute_result"
    }
   ],
   "source": [
    "# np.indices\n",
    "# will create a set of arrays (stacked as a one-higher dimensioned array)\n",
    "# one per dimension with each representing variation in that dimension\n",
    "# helpful for evaluating functions of multiple dimensions on a regular grid\n",
    "\n",
    "np.indices((3, 3))"
   ]
  },
  {
   "cell_type": "markdown",
   "id": "435e6350-d899-4652-ac07-2137b6250476",
   "metadata": {},
   "source": [
    "##### *i. Replicating, Joining OR Mutating existing arrays*\n",
    "to create new arrays.\n",
    "\n",
    "- When you assign an array or its elements to a new variable, you have to explicitly ` np.copy ` the array, otherwise the variable is a view into the original array."
   ]
  },
  {
   "cell_type": "code",
   "execution_count": 35,
   "id": "2f2d972d-0097-445d-9e5e-b2efdf1c42a9",
   "metadata": {},
   "outputs": [
    {
     "name": "stdout",
     "output_type": "stream",
     "text": [
      "a:  [1 2 3 4]\n",
      "b:  [1 2]\n",
      "- - - - -\n",
      "- - - - -\n",
      "a =  [1 2 3 4] \n",
      "b =  [2 3]\n"
     ]
    }
   ],
   "source": [
    "a = np.array([1, 2, 3, 4])\n",
    "print(\"a: \", a)\n",
    "\n",
    "b = a[:2].copy()\n",
    "print(\"b: \", b)\n",
    "\n",
    "print(\"- - - - -\")\n",
    "print(\"- - - - -\")\n",
    "\n",
    "b += 1\n",
    "print('a = ', a, '\\nb = ', b)"
   ]
  },
  {
   "cell_type": "code",
   "execution_count": null,
   "id": "d612ae8e-37ed-4e71-a1fd-f840944eeea5",
   "metadata": {},
   "outputs": [],
   "source": []
  }
 ],
 "metadata": {
  "kernelspec": {
   "display_name": "Python 3 (ipykernel)",
   "language": "python",
   "name": "python3"
  },
  "language_info": {
   "codemirror_mode": {
    "name": "ipython",
    "version": 3
   },
   "file_extension": ".py",
   "mimetype": "text/x-python",
   "name": "python",
   "nbconvert_exporter": "python",
   "pygments_lexer": "ipython3",
   "version": "3.11.7"
  }
 },
 "nbformat": 4,
 "nbformat_minor": 5
}
