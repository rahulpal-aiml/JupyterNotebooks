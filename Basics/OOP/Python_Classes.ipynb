{
 "cells": [
  {
   "cell_type": "markdown",
   "id": "9f4d116f-280e-4a9a-a8b1-cd664d25c80f",
   "metadata": {},
   "source": [
    "## <center> <font color = 'green'> Object Oriented Programming "
   ]
  },
  {
   "cell_type": "markdown",
   "id": "37d0e00f-3b06-4576-a155-754e6e84d76d",
   "metadata": {},
   "source": [
    "### <center> Classes"
   ]
  },
  {
   "cell_type": "markdown",
   "id": "8f222407-c80d-4b87-b572-86b8da3c49ab",
   "metadata": {},
   "source": [
    "- Object Oriented Programming is one of the most effective approaches to writing a software.\n",
    "- In OOP,  you write *classes* that represents real-world things & situations.\n",
    "- and we create *objects* based on these classes.\n",
    "- When we write a class, we define the general behavior that a whole category of objects can have"
   ]
  },
  {
   "cell_type": "markdown",
   "id": "202f80f9-eef4-498b-938f-31bbdcdcc310",
   "metadata": {},
   "source": [
    "- ` Instantiation ` : making an object from a class is called instantiation, and we work with *instances* of a class"
   ]
  },
  {
   "cell_type": "markdown",
   "id": "ada03d04-01bb-4977-9828-a60ed5ccc3fb",
   "metadata": {},
   "source": [
    "### <center> <font color = 'orange'> Creating & Using a Class"
   ]
  },
  {
   "cell_type": "markdown",
   "id": "ff6622b6-b58c-4ec2-b36f-426a7080bc51",
   "metadata": {},
   "source": [
    "- the class we are creating represents a Dog, not one dog in particular, but any dog\n",
    "- we will use name, age, behavior (sit & roll over)\n",
    "- This class will tell Python how to make an object representing a dog.\n",
    "- after our class is written, we'll use it to make individual instances (each one represents one specific dog)"
   ]
  },
  {
   "cell_type": "code",
   "execution_count": 7,
   "id": "3aacbfae-df05-42e4-ab4a-fd910e1e629c",
   "metadata": {},
   "outputs": [],
   "source": [
    "# Creating a Dog class\n",
    "# each instance created from the Dog Class will store a name and an age\n",
    "#  we'll give each dog an ability to sit() and roll_over()\n",
    "\n",
    "class Dog:    # define the class, Capitalized names for a class are convention in Python\n",
    "    \"\"\"A simple attempt to model a Dog\"\"\"\n",
    "    def __init__(self, name, age):    # __init__() method runs automatically whenever we create a new instance based on the class\n",
    "        # self param is reqd. in method defn, and must come before all parameters\n",
    "        # self is a referance to instance itself\n",
    "        # self gives the individual instance access to attributes & methods in the class\n",
    "        \"\"\"inititalize name & age attributes\"\"\"   \n",
    "        self.name = name\n",
    "        self.age = age\n",
    "        # any variable prefixed with self is available to eery method in the class\n",
    "        # self.attribute takes the value associated with the param name, and assigns it to the var name\n",
    "\n",
    "    def sit(self):   # creating methods\n",
    "        \"\"\"simulate a dog sitting in response to a command\"\"\"\n",
    "        print(f\"{self.name} is now sitting\")\n",
    "\n",
    "    def roll_over(self):    # methods\n",
    "        \"\"\"simulate rolling over in response to a command\"\"\"\n",
    "        print(f\"{self.name} rolled over!\")"
   ]
  },
  {
   "cell_type": "code",
   "execution_count": 8,
   "id": "3760b0b0-8375-442c-a73b-e858f5767a8b",
   "metadata": {},
   "outputs": [
    {
     "name": "stdout",
     "output_type": "stream",
     "text": [
      "My dog's name is Wilie\n",
      "My dog's is 6 years old\n"
     ]
    }
   ],
   "source": [
    "# Making an Instance from a class\n",
    "\n",
    "my_dog = Dog('Wilie', 6)    # Dog is the class (__init__() method is called)   # we provide name and age params, but not self\n",
    "\n",
    "print(f\"My dog's name is {my_dog.name}\")    # accessing 'name' attribute of my_dog instance\n",
    "print(f\"My dog's is {my_dog.age} years old\")    # accessing 'age' attribute of my_dog instance"
   ]
  },
  {
   "cell_type": "code",
   "execution_count": 9,
   "id": "c2a0dedc-8faf-4e36-bb41-d3372708f4d2",
   "metadata": {},
   "outputs": [
    {
     "name": "stdout",
     "output_type": "stream",
     "text": [
      "Wilie is now sitting\n",
      "Wilie rolled over!\n"
     ]
    }
   ],
   "source": [
    "# calling methods\n",
    "my_dog.sit()\n",
    "my_dog.roll_over()"
   ]
  },
  {
   "cell_type": "markdown",
   "id": "a44248ae-8ac2-474b-ad36-70cfff2d4689",
   "metadata": {},
   "source": [
    "<font color = orange> Try it yourself\n",
    "- Book: Python Crash Course - Eric Mattthes\n",
    "- Page 162\n",
    "\n",
    "1. ` Restaurant `: Make a class called Restaurant. The __init__() method for Restaurant should store two attributes: a restaurant_name and a cuisine_type. Make a method called describe_restaurant() that prints these two pieces of information, and a method called open_restaurant() that prints a message indi-cating that the restaurant is open.Make an instance called restaurant from your class. Print the two attri-butes individually, and then call both methods.\n",
    "2. ` Three Restaurants `: Start with your class from Exercise 1. Create three different instances from the class, and call describe_restaurant() for each instance.\n",
    "3. `Users `: Make a class called User. Create two attributes called first_nameand last_name, and then create several other attributes that are typically stored in a user profile. Make a method called describe_user() that prints a summary of the user’s information. Make another method called greet_user() that prints a personalized greeting to the user.Create several instances representing different users, and call both methods for each user."
   ]
  },
  {
   "cell_type": "code",
   "execution_count": 14,
   "id": "3045a32d-a885-4701-882e-cdc69aac232c",
   "metadata": {},
   "outputs": [],
   "source": [
    "# make a class restaurant and describer \n",
    "class Restaurant: \n",
    "\n",
    "    def __init__(self, restaurant_name, cuisine_type):\n",
    "        self.restaurant_name = restaurant_name  # Assign the value to the attribute\n",
    "        self.cuisine_type = cuisine_type  # Assign the value to the attribute\n",
    "\n",
    "    def describe_restaurant(self):\n",
    "        print(f\"{self.restaurant_name} is a great {self.cuisine_type} restaurant in your city\")\n",
    "\n",
    "    def open_restaurant(self):\n",
    "        print(f\"{self.restaurant_name} is Open!\")\n"
   ]
  },
  {
   "cell_type": "code",
   "execution_count": 22,
   "id": "3751dec8-93cf-4720-a93e-85348ae64299",
   "metadata": {},
   "outputs": [
    {
     "name": "stdout",
     "output_type": "stream",
     "text": [
      "Sadguru is a great Malwani restaurant in your city\n",
      "Sadguru is Open!\n"
     ]
    }
   ],
   "source": [
    "sadguru = Restaurant('Sadguru', 'Malwani')\n",
    "\n",
    "sadguru.describe_restaurant()\n",
    "sadguru.open_restaurant()"
   ]
  },
  {
   "cell_type": "markdown",
   "id": "b9ce5c57-9be1-4eee-aec9-de8aae38bd5d",
   "metadata": {},
   "source": [
    "### <center> <font color = 'orange'> Working with Classes & Instances"
   ]
  },
  {
   "cell_type": "markdown",
   "id": "d2b2b9ac-1800-40b7-b57f-e97846bd7a45",
   "metadata": {},
   "source": [
    "- once we write a class, we'll spend most of our time working with instances created from that class\n",
    "- one of the 1st tasks one might want to do, is modify the attributes associated with a particular instance\n",
    "- we can modify the attributes of an instance directly or write methods that update attributes in specific ways"
   ]
  },
  {
   "cell_type": "code",
   "execution_count": 31,
   "id": "ec39e817-95d0-4c60-9e1d-dceb4e6052b6",
   "metadata": {},
   "outputs": [],
   "source": [
    "# The Car Class\n",
    "class Car:\n",
    "    \"\"\"represent cars\"\"\"\n",
    "    def __init__(self, make, model, year):\n",
    "        self.make = make\n",
    "        self.model = model\n",
    "        self.year = year\n",
    "\n",
    "    def get_descriptive_name(self):\n",
    "        \"\"\"Return neatly formatted descriptive name\"\"\"\n",
    "        long_name = f\"{self.year} {self.make} {self.model}\"\n",
    "        return long_name.title()"
   ]
  },
  {
   "cell_type": "code",
   "execution_count": 33,
   "id": "e1da43e3-2fee-4a31-821a-4d48c663bddd",
   "metadata": {},
   "outputs": [
    {
     "name": "stdout",
     "output_type": "stream",
     "text": [
      "2019 Audi A4\n"
     ]
    }
   ],
   "source": [
    "new_car = Car('audi', 'a4', 2019)\n",
    "print(new_car.get_descriptive_name())"
   ]
  },
  {
   "cell_type": "code",
   "execution_count": null,
   "id": "95e2d831-f337-4bb3-91d3-2411323b471e",
   "metadata": {},
   "outputs": [],
   "source": []
  }
 ],
 "metadata": {
  "kernelspec": {
   "display_name": "Python 3 (ipykernel)",
   "language": "python",
   "name": "python3"
  },
  "language_info": {
   "codemirror_mode": {
    "name": "ipython",
    "version": 3
   },
   "file_extension": ".py",
   "mimetype": "text/x-python",
   "name": "python",
   "nbconvert_exporter": "python",
   "pygments_lexer": "ipython3",
   "version": "3.12.4"
  }
 },
 "nbformat": 4,
 "nbformat_minor": 5
}
