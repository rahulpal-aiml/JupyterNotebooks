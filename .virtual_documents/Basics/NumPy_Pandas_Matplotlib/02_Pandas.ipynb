











# importing pandas
import numpy as np  # its good to import np
import pandas as pd # pd is standard pandas alias





# Series
# 1D labelled array holding data of any type

s = pd.Series([1, 3, 5, np.nan, 6, 8])
s


# DataFrame
# 2D data structure that holds data like a 2D array 
# or a table with rows & columns

df1 = pd.DataFrame(
    {
        "A": 1.0,
        "B": pd.Timestamp("20130102"),
        "C": pd.Series(1, index=list(range(4)), dtype="float32"),
        "D": np.array([3] * 4, dtype="int32"),
        "E": pd.Categorical(["test", "train", "test", "train"]),
        "F": "foo",
    }
)

df1





# df.head()
# top rows of the dataframe

df1.head()


# df.tail()
# last rows of the dataframe

df1.tail()


# df.index
# displays index of the dataframe as a list

df1.index


# df.columns
# displays columns of the dataframe
df1.columns


# df.to_numpy()
# to return a numpy representation of the underlying data

df1.to_numpy()


# df.describe()
# quick statistic summary of data

df1.describe()








# df.T
# transposing data

df1.T


# df.sort_index()
# sorts by an axis

df1.sort_index()


# df.sort_values()
# sorts by values

df1.sort_values(by = "B")





# df["label/column"]
# selects a column for the desired label/column

df1['A']


# df[index: index1]
# slicing
# row level
# excludes last index

df1[0: 2]





# df.loc[ ]

df1.loc[[0]]


df1.loc[:, ['A', 'B']]


# label slicing
# both endpoints are included

df1.loc[0: 1, ["A", "B"]]


# selecting single row and column label returns a scalar

df1.loc[0, "A"]





df1.iloc[3]


df1.iloc[1: 3, 0: 2]


# lists of integer position locations

df1.iloc[[1, 2, 3], [0, 2]]


# for slicing rows explicitly

df1.iloc[1: 3, :]


# for slicing columns explicitly
df1.iloc[: , 1: 3]


# for getting a value explicitly

df1.iloc[1, 1]





df1[df1["A"] > 0]


# isin() method for filtering

df2 = df1.copy()

df2["G"] = ["one", "two", "three", "four"]

df2 = df2[df2["G"].isin(["two", "four"])]

df2



